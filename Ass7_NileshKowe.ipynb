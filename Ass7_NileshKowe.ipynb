{
 "cells": [
  {
   "cell_type": "code",
   "execution_count": 27,
   "id": "2015046f",
   "metadata": {},
   "outputs": [],
   "source": [
    "import nltk\n",
    "from nltk.tokenize import word_tokenize\n",
    "from nltk.corpus import stopwords\n",
    "from nltk.stem import PorterStemmer, WordNetLemmatizer\n",
    "from nltk.probability import FreqDist\n",
    "from nltk import pos_tag\n",
    "from nltk.corpus import wordnet as wn\n",
    "from sklearn.feature_extraction.text import TfidfVectorizer\n"
   ]
  },
  {
   "cell_type": "code",
   "execution_count": 33,
   "id": "ca36dabb",
   "metadata": {},
   "outputs": [
    {
     "name": "stderr",
     "output_type": "stream",
     "text": [
      "[nltk_data] Downloading package wordnet to /home/ubuntu/nltk_data...\n"
     ]
    },
    {
     "data": {
      "text/plain": [
       "True"
      ]
     },
     "execution_count": 33,
     "metadata": {},
     "output_type": "execute_result"
    }
   ],
   "source": [
    "import nltk\n",
    "nltk.download('wordnet')"
   ]
  },
  {
   "cell_type": "code",
   "execution_count": 19,
   "id": "4bf22fea",
   "metadata": {},
   "outputs": [],
   "source": [
    "document = \"The quick brown fox jumps over the lazy dog. The dog is lazy, but the fox is quick. The fox and the dog are friends.\""
   ]
  },
  {
   "cell_type": "code",
   "execution_count": 20,
   "id": "a9198ae9",
   "metadata": {},
   "outputs": [],
   "source": [
    "tokens = word_tokenize(document)"
   ]
  },
  {
   "cell_type": "code",
   "execution_count": 25,
   "id": "1108d05b",
   "metadata": {},
   "outputs": [],
   "source": [
    "stop_words = set(stopwords.words('english'))\n",
    "filtered_tokens = [token for token in tokens if token.lower() not in stop_words]"
   ]
  },
  {
   "cell_type": "code",
   "execution_count": 29,
   "id": "87086e41",
   "metadata": {},
   "outputs": [],
   "source": [
    "pos_tags = pos_tag(filtered_tokens)"
   ]
  },
  {
   "cell_type": "code",
   "execution_count": 31,
   "id": "7c5c0add",
   "metadata": {},
   "outputs": [],
   "source": [
    "ps = PorterStemmer()\n",
    "stemmed_tokens = [ps.stem(token) for token in filtered_tokens]"
   ]
  },
  {
   "cell_type": "code",
   "execution_count": 34,
   "id": "529be410",
   "metadata": {},
   "outputs": [],
   "source": [
    "lemmatizer = WordNetLemmatizer()\n",
    "lemmatized_tokens = []\n",
    "for token, tag in pos_tags:\n",
    "    if tag.startswith('NN'):\n",
    "        pos = wn.NOUN\n",
    "    elif tag.startswith('VB'):\n",
    "        pos = wn.VERB\n",
    "    elif tag.startswith('JJ'):\n",
    "        pos = wn.ADJ\n",
    "    elif tag.startswith('RB'):\n",
    "        pos = wn.ADV\n",
    "    else:\n",
    "        pos = wn.NOUN\n",
    "    lemmatized_token = lemmatizer.lemmatize(token, pos=pos)\n",
    "    lemmatized_tokens.append(lemmatized_token)"
   ]
  },
  {
   "cell_type": "code",
   "execution_count": 35,
   "id": "9fab2b19",
   "metadata": {},
   "outputs": [],
   "source": [
    "tfidf = TfidfVectorizer()\n",
    "tfidf_matrix = tfidf.fit_transform([document])\n",
    "feature_names = tfidf.get_feature_names()\n",
    "tfidf_scores = tfidf_matrix.todense().tolist()[0]\n",
    "tfidf_dict = {}\n",
    "for feature, score in zip(feature_names, tfidf_scores):\n",
    "    tfidf_dict[feature] = round(score, 2)"
   ]
  },
  {
   "cell_type": "code",
   "execution_count": 41,
   "id": "87bd0838",
   "metadata": {},
   "outputs": [],
   "source": [
    "import nltk\n",
    "from nltk.tokenize import word_tokenize\n",
    "from nltk.corpus import stopwords\n",
    "from nltk.stem import PorterStemmer, WordNetLemmatizer\n",
    "from nltk.probability import FreqDist\n",
    "from nltk import pos_tag\n",
    "from nltk.corpus import wordnet as wn\n",
    "from sklearn.feature_extraction.text import TfidfVectorizer\n",
    "\n",
    "# Define sample document\n",
    "document = \"The quick brown fox jumps over the lazy dog. The dog is lazy, but the fox is quick. The fox and the dog are friends.\"\n",
    "\n",
    "# Tokenize the document\n",
    "tokens = word_tokenize(document)\n",
    "\n",
    "# Remove stop words\n",
    "stop_words = set(stopwords.words('english'))\n",
    "filtered_tokens = [token for token in tokens if token.lower() not in stop_words]\n",
    "\n",
    "# Perform POS tagging\n",
    "pos_tags = pos_tag(filtered_tokens)\n",
    "\n",
    "# Perform stemming\n",
    "ps = PorterStemmer()\n",
    "stemmed_tokens = [ps.stem(token) for token in filtered_tokens]\n",
    "\n",
    "# Perform lemmatization\n",
    "lemmatizer = WordNetLemmatizer()\n",
    "lemmatized_tokens = []\n",
    "for token, tag in pos_tags:\n",
    "        if tag.startswith('NN'):\n",
    "            pos = wn.NOUN\n",
    "        elif tag.startswith('VB'):\n",
    "            pos = wn.VERB\n",
    "        elif tag.startswith('JJ'):\n",
    "            pos = wn.ADJ\n",
    "        elif tag.startswith('RB'):\n",
    "            pos = wn.ADV\n",
    "        else:\n",
    "            pos = wn.NOUN\n",
    "lemmatized_token = lemmatizer.lemmatize(token, pos=pos)\n",
    "lemmatized_tokens.append(lemmatized_token)\n"
   ]
  },
  {
   "cell_type": "code",
   "execution_count": 43,
   "id": "950596a0",
   "metadata": {},
   "outputs": [],
   "source": [
    "tfidf = TfidfVectorizer()\n",
    "tfidf_matrix = tfidf.fit_transform([document])\n",
    "feature_names = tfidf.get_feature_names()\n",
    "tfidf_scores = tfidf_matrix.todense().tolist()[0]\n",
    "tfidf_dict = {}\n",
    "for feature, score in zip(feature_names, tfidf_scores):\n",
    "    tfidf_dict[feature] = round(score, 2)"
   ]
  },
  {
   "cell_type": "code",
   "execution_count": 44,
   "id": "dcdedb23",
   "metadata": {},
   "outputs": [
    {
     "name": "stdout",
     "output_type": "stream",
     "text": [
      "Tokenized document: ['The', 'quick', 'brown', 'fox', 'jumps', 'over', 'the', 'lazy', 'dog', '.', 'The', 'dog', 'is', 'lazy', ',', 'but', 'the', 'fox', 'is', 'quick', '.', 'The', 'fox', 'and', 'the', 'dog', 'are', 'friends', '.']\n",
      "Filtered tokens: ['quick', 'brown', 'fox', 'jumps', 'lazy', 'dog', '.', 'dog', 'lazy', ',', 'fox', 'quick', '.', 'fox', 'dog', 'friends', '.']\n",
      "POS tagged tokens: [('quick', 'JJ'), ('brown', 'NN'), ('fox', 'NN'), ('jumps', 'NNS'), ('lazy', 'JJ'), ('dog', 'NN'), ('.', '.'), ('dog', 'NN'), ('lazy', 'NN'), (',', ','), ('fox', 'JJ'), ('quick', 'NN'), ('.', '.'), ('fox', 'JJ'), ('dog', 'NN'), ('friends', 'NNS'), ('.', '.')]\n",
      "Stemmed tokens: ['quick', 'brown', 'fox', 'jump', 'lazi', 'dog', '.', 'dog', 'lazi', ',', 'fox', 'quick', '.', 'fox', 'dog', 'friend', '.']\n",
      "Lemmatized tokens: ['.']\n",
      "TF-IDF scores: {'and': 0.12, 'are': 0.12, 'brown': 0.12, 'but': 0.12, 'dog': 0.35, 'fox': 0.35, 'friends': 0.12, 'is': 0.23, 'jumps': 0.12, 'lazy': 0.23, 'over': 0.12, 'quick': 0.23, 'the': 0.7}\n"
     ]
    }
   ],
   "source": [
    "print(\"Tokenized document:\", tokens)\n",
    "print(\"Filtered tokens:\", filtered_tokens)\n",
    "print(\"POS tagged tokens:\", pos_tags)\n",
    "print(\"Stemmed tokens:\", stemmed_tokens)\n",
    "print(\"Lemmatized tokens:\", lemmatized_tokens)\n",
    "print(\"TF-IDF scores:\", tfidf_dict)"
   ]
  },
  {
   "cell_type": "code",
   "execution_count": null,
   "id": "f4b7264f",
   "metadata": {},
   "outputs": [],
   "source": []
  }
 ],
 "metadata": {
  "kernelspec": {
   "display_name": "Python 3 (ipykernel)",
   "language": "python",
   "name": "python3"
  },
  "language_info": {
   "codemirror_mode": {
    "name": "ipython",
    "version": 3
   },
   "file_extension": ".py",
   "mimetype": "text/x-python",
   "name": "python",
   "nbconvert_exporter": "python",
   "pygments_lexer": "ipython3",
   "version": "3.10.6"
  }
 },
 "nbformat": 4,
 "nbformat_minor": 5
}
